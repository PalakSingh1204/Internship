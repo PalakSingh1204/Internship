{
 "cells": [
  {
   "cell_type": "code",
   "execution_count": 1,
   "id": "8fae9294-c80c-40ce-88ed-c341408187cf",
   "metadata": {},
   "outputs": [],
   "source": [
    "# Problem-1 Count total number of 'the' in this file\n",
    "# Problem-2 Count and print the names which starts with 'M'"
   ]
  },
  {
   "cell_type": "code",
   "execution_count": 18,
   "id": "5d6a611b-7982-4701-884a-562d2280c763",
   "metadata": {},
   "outputs": [],
   "source": [
    "m = open('mah.txt')"
   ]
  },
  {
   "cell_type": "code",
   "execution_count": 19,
   "id": "c4327686-1cde-4425-86ef-c8143d962506",
   "metadata": {},
   "outputs": [],
   "source": [
    "text = m.read()"
   ]
  },
  {
   "cell_type": "code",
   "execution_count": 20,
   "id": "5843a162-b1fb-439c-8fc9-f5094e25922b",
   "metadata": {},
   "outputs": [
    {
     "data": {
      "text/plain": [
       "27"
      ]
     },
     "execution_count": 20,
     "metadata": {},
     "output_type": "execute_result"
    }
   ],
   "source": [
    "text.count('the') + text.count('The')"
   ]
  },
  {
   "cell_type": "code",
   "execution_count": 21,
   "id": "807e4a96-c5c9-4a08-8cd6-54949d7164e6",
   "metadata": {},
   "outputs": [],
   "source": [
    "words = text.split()"
   ]
  },
  {
   "cell_type": "code",
   "execution_count": 24,
   "id": "d7f49361-4c30-4c46-83c1-ebfb404afac6",
   "metadata": {},
   "outputs": [],
   "source": [
    "count = [1 for word in words if word.startswith('M')]"
   ]
  },
  {
   "cell_type": "code",
   "execution_count": 25,
   "id": "2cd506f0-b502-4320-bbe1-d970693a10b9",
   "metadata": {},
   "outputs": [
    {
     "data": {
      "text/plain": [
       "7"
      ]
     },
     "execution_count": 25,
     "metadata": {},
     "output_type": "execute_result"
    }
   ],
   "source": [
    "sum(count)"
   ]
  },
  {
   "cell_type": "markdown",
   "id": "82911f9d-5fa3-4a52-888b-831f14decc49",
   "metadata": {},
   "source": [
    "#### With statement"
   ]
  },
  {
   "cell_type": "code",
   "execution_count": 26,
   "id": "4265b191-571b-4170-8567-d38b16f33954",
   "metadata": {},
   "outputs": [],
   "source": [
    "with open('sample.txt') as f:\n",
    "    data = f.read()"
   ]
  },
  {
   "cell_type": "code",
   "execution_count": 27,
   "id": "14134ec7-9871-418a-9c49-ba52ae9ecdff",
   "metadata": {},
   "outputs": [
    {
     "name": "stdout",
     "output_type": "stream",
     "text": [
      "Hello Friends!\n",
      "How are you!\n",
      "Welcome to the world of python.\n",
      "\n"
     ]
    }
   ],
   "source": [
    "print(data)"
   ]
  },
  {
   "cell_type": "markdown",
   "id": "e8c305a8-bd7d-485d-aaa0-6d6151d64d0f",
   "metadata": {},
   "source": [
    "#### Writing the file"
   ]
  },
  {
   "cell_type": "code",
   "execution_count": 28,
   "id": "b973edaa-5329-4426-9281-c26881f2024f",
   "metadata": {},
   "outputs": [],
   "source": [
    "# mode - 'w' (existing file will be overwritten otherwise created)"
   ]
  },
  {
   "cell_type": "code",
   "execution_count": 29,
   "id": "3ee3f63c-0e09-468d-a54a-f983b4f77729",
   "metadata": {},
   "outputs": [],
   "source": [
    "f = open('myfile.txt', 'w')"
   ]
  },
  {
   "cell_type": "code",
   "execution_count": 30,
   "id": "34727813-d813-44dd-8424-6f1153b6aa29",
   "metadata": {},
   "outputs": [
    {
     "data": {
      "text/plain": [
       "<_io.TextIOWrapper name='myfile.txt' mode='w' encoding='cp1252'>"
      ]
     },
     "execution_count": 30,
     "metadata": {},
     "output_type": "execute_result"
    }
   ],
   "source": [
    "f"
   ]
  },
  {
   "cell_type": "markdown",
   "id": "70ba9927-057e-481a-8401-7c4ce204499a",
   "metadata": {},
   "source": [
    "#### writable() function"
   ]
  },
  {
   "cell_type": "code",
   "execution_count": 31,
   "id": "6684ef62-faf6-42a9-ad26-c747cd7df697",
   "metadata": {},
   "outputs": [
    {
     "data": {
      "text/plain": [
       "False"
      ]
     },
     "execution_count": 31,
     "metadata": {},
     "output_type": "execute_result"
    }
   ],
   "source": [
    "f.readable()"
   ]
  },
  {
   "cell_type": "code",
   "execution_count": 33,
   "id": "1f15c7cf-4507-480a-9f90-7cd105d24b8d",
   "metadata": {},
   "outputs": [
    {
     "data": {
      "text/plain": [
       "True"
      ]
     },
     "execution_count": 33,
     "metadata": {},
     "output_type": "execute_result"
    }
   ],
   "source": [
    "f.writable()"
   ]
  },
  {
   "cell_type": "markdown",
   "id": "870a6724-3e8d-4126-a59c-6f3165f99675",
   "metadata": {},
   "source": [
    "#### writelines() function"
   ]
  },
  {
   "cell_type": "code",
   "execution_count": 34,
   "id": "56ba8ed2-2a30-4068-9299-b99d0fa403b6",
   "metadata": {},
   "outputs": [],
   "source": [
    "lines = ('It is raining heavily.' , 'It may cause flood.')"
   ]
  },
  {
   "cell_type": "code",
   "execution_count": 35,
   "id": "e7a914fd-b91a-460d-a983-4984303f0ad3",
   "metadata": {},
   "outputs": [],
   "source": [
    "f.writelines(lines)"
   ]
  },
  {
   "cell_type": "code",
   "execution_count": 36,
   "id": "8f4d2ced-731a-4548-9283-89d7400780ac",
   "metadata": {},
   "outputs": [],
   "source": [
    "f.close()"
   ]
  },
  {
   "cell_type": "markdown",
   "id": "3c73e685-e24c-4a42-9bc9-28da6abd7eef",
   "metadata": {},
   "source": [
    "#### write() function"
   ]
  },
  {
   "cell_type": "code",
   "execution_count": 37,
   "id": "bc999be2-e57a-475b-bfb6-36ef75e305cf",
   "metadata": {},
   "outputs": [],
   "source": [
    "sent = 'Python is intepreted language. We need an interpreter to code in it.'"
   ]
  },
  {
   "cell_type": "code",
   "execution_count": 39,
   "id": "425bc8dc-cbe2-42d9-bd62-77324b3109a0",
   "metadata": {},
   "outputs": [],
   "source": [
    "f = open('myfile.txt', 'w')\n",
    "f.write(sent)\n",
    "f.close()"
   ]
  },
  {
   "cell_type": "code",
   "execution_count": 40,
   "id": "a4cfa449-3402-4593-b304-fe580488766a",
   "metadata": {},
   "outputs": [],
   "source": [
    "with open('myfile.txt', 'w') as f:\n",
    "    f.write('Hello\\n')\n",
    "    f.write('This is second line. \\n')\n",
    "    f.write('and the last line.')"
   ]
  },
  {
   "cell_type": "markdown",
   "id": "d69e208b-6ba7-4bed-9fe8-daddd5358284",
   "metadata": {},
   "source": [
    "#### Simple file copy operation"
   ]
  },
  {
   "cell_type": "code",
   "execution_count": 41,
   "id": "b2ab1227-26ed-403b-853d-292464ba9288",
   "metadata": {},
   "outputs": [],
   "source": [
    "# source file -> sample.txt\n",
    "# destination file -> mydata.txt"
   ]
  },
  {
   "cell_type": "code",
   "execution_count": 42,
   "id": "b5200ddb-a3eb-4791-916e-525582d734dc",
   "metadata": {},
   "outputs": [],
   "source": [
    "s = open('sample.txt', 'r')\n",
    "d = open('mydata.txt', 'w')"
   ]
  },
  {
   "cell_type": "code",
   "execution_count": 43,
   "id": "39c56074-0eba-48de-9ab7-8323907bd7d9",
   "metadata": {},
   "outputs": [],
   "source": [
    "contents = s.read()\n",
    "d.write(contents)\n",
    "d.close()"
   ]
  },
  {
   "cell_type": "markdown",
   "id": "fb105c7e-f4ed-40db-bab8-6da0f96ee55f",
   "metadata": {},
   "source": [
    "#### Appending the data to file"
   ]
  },
  {
   "cell_type": "code",
   "execution_count": 44,
   "id": "c56e3878-de21-4df8-867b-4a9c27114263",
   "metadata": {},
   "outputs": [],
   "source": [
    "s = open('sample.txt' , 'a')"
   ]
  },
  {
   "cell_type": "code",
   "execution_count": 45,
   "id": "9644d6e4-8192-4e09-bb6b-7e1955a7f8a2",
   "metadata": {},
   "outputs": [
    {
     "data": {
      "text/plain": [
       "10"
      ]
     },
     "execution_count": 45,
     "metadata": {},
     "output_type": "execute_result"
    }
   ],
   "source": [
    "s.write('\\nGood bye!')"
   ]
  },
  {
   "cell_type": "code",
   "execution_count": 46,
   "id": "8bc23d35-3087-4838-9c00-b1430912c3fa",
   "metadata": {},
   "outputs": [],
   "source": [
    "s.close()"
   ]
  },
  {
   "cell_type": "code",
   "execution_count": 47,
   "id": "dc975e44-0f90-48fd-8710-12748c6bdcb5",
   "metadata": {},
   "outputs": [
    {
     "name": "stdout",
     "output_type": "stream",
     "text": [
      "Hello Friends!\n",
      "How are you!\n",
      "Welcome to the world of python.\n",
      "\n",
      "Good bye!\n"
     ]
    }
   ],
   "source": [
    "s = open('sample.txt' , 'r')\n",
    "print(s.read())"
   ]
  },
  {
   "cell_type": "markdown",
   "id": "b23ea079-ddc0-401e-a2ec-a6d848b1e4d1",
   "metadata": {},
   "source": [
    "#### Exclusive creation"
   ]
  },
  {
   "cell_type": "markdown",
   "id": "40fac757-d1c0-4a74-a1d2-9ab5d7d944d7",
   "metadata": {},
   "source": [
    "#### Example"
   ]
  },
  {
   "cell_type": "markdown",
   "id": "6d1548c5-a14b-4abd-ab99-36387bcb4e0f",
   "metadata": {},
   "source": [
    "##### Given with three text files, count the total of all the numerical elements from these files."
   ]
  },
  {
   "cell_type": "code",
   "execution_count": 10,
   "id": "9ce261b7-aa6d-4d68-8ff7-ddb4e347392e",
   "metadata": {},
   "outputs": [],
   "source": [
    "f = open('num1.txt')"
   ]
  },
  {
   "cell_type": "code",
   "execution_count": 11,
   "id": "88dba348-9de8-4a4b-8532-f0ba6e2422bf",
   "metadata": {},
   "outputs": [],
   "source": [
    "data = f.read()"
   ]
  },
  {
   "cell_type": "code",
   "execution_count": 12,
   "id": "7e22f5c5-db0e-4849-b306-fc7511bf3df3",
   "metadata": {},
   "outputs": [
    {
     "data": {
      "text/plain": [
       "'23\\n54\\n12\\n67\\n39\\n81\\n50\\n88\\n97\\n33'"
      ]
     },
     "execution_count": 12,
     "metadata": {},
     "output_type": "execute_result"
    }
   ],
   "source": [
    "data"
   ]
  },
  {
   "cell_type": "code",
   "execution_count": 13,
   "id": "2bc1bdca-04b6-4ec6-ad4b-7da6f2d3d935",
   "metadata": {},
   "outputs": [],
   "source": [
    "nums = data.split()"
   ]
  },
  {
   "cell_type": "code",
   "execution_count": 14,
   "id": "effbf5ad-e073-4820-bb46-d37630b98d1f",
   "metadata": {},
   "outputs": [
    {
     "data": {
      "text/plain": [
       "['23', '54', '12', '67', '39', '81', '50', '88', '97', '33']"
      ]
     },
     "execution_count": 14,
     "metadata": {},
     "output_type": "execute_result"
    }
   ],
   "source": [
    "nums"
   ]
  },
  {
   "cell_type": "code",
   "execution_count": 15,
   "id": "42a8db5a-9085-41c8-a6ff-7e47a17843af",
   "metadata": {},
   "outputs": [],
   "source": [
    "nums = [int(n) for n in nums]"
   ]
  },
  {
   "cell_type": "code",
   "execution_count": 16,
   "id": "5bafd931-af2c-4cec-92cd-1a4641fbe91b",
   "metadata": {},
   "outputs": [
    {
     "data": {
      "text/plain": [
       "[23, 54, 12, 67, 39, 81, 50, 88, 97, 33]"
      ]
     },
     "execution_count": 16,
     "metadata": {},
     "output_type": "execute_result"
    }
   ],
   "source": [
    "nums"
   ]
  },
  {
   "cell_type": "code",
   "execution_count": 17,
   "id": "45a9b6bb-1600-4e33-9952-605cff1b9810",
   "metadata": {},
   "outputs": [
    {
     "data": {
      "text/plain": [
       "544"
      ]
     },
     "execution_count": 17,
     "metadata": {},
     "output_type": "execute_result"
    }
   ],
   "source": [
    "sum(nums)(nums)"
   ]
  },
  {
   "cell_type": "code",
   "execution_count": 18,
   "id": "2c42bfa3-49e4-4281-8ac0-543eaa498c54",
   "metadata": {},
   "outputs": [
    {
     "data": {
      "text/plain": [
       "'45 abc\\n67 78 12\\nfcdf 34 11\\ngh edt hy\\n56\\n34 56 7f\\n12 64 eeee\\n4\\n56 67 78 dr\\n12 f34 63'"
      ]
     },
     "execution_count": 18,
     "metadata": {},
     "output_type": "execute_result"
    }
   ],
   "source": [
    "f = open('num2.txt')\n",
    "data = f.read()\n",
    "data"
   ]
  },
  {
   "cell_type": "code",
   "execution_count": 19,
   "id": "46b38609-41b6-4650-a394-f91ae085cfa2",
   "metadata": {},
   "outputs": [],
   "source": [
    "nums = data.split()"
   ]
  },
  {
   "cell_type": "code",
   "execution_count": 21,
   "id": "c535f3d7-df41-4dab-bf51-113986834f70",
   "metadata": {},
   "outputs": [],
   "source": [
    "nums;"
   ]
  },
  {
   "cell_type": "code",
   "execution_count": null,
   "id": "1908306f-b20e-4c22-8b25-9c509a1a3479",
   "metadata": {},
   "outputs": [],
   "source": []
  },
  {
   "cell_type": "code",
   "execution_count": 23,
   "id": "70cc7af3-22c4-4bca-8a4c-7767f486b10a",
   "metadata": {},
   "outputs": [],
   "source": [
    "nums = [int(n) for n in nums if n.isdigit()]"
   ]
  },
  {
   "cell_type": "code",
   "execution_count": 24,
   "id": "fdf50381-6b6a-474d-a4ac-c1a263e92024",
   "metadata": {},
   "outputs": [
    {
     "data": {
      "text/plain": [
       "[45, 67, 78, 12, 34, 11, 56, 34, 56, 12, 64, 4, 56, 67, 78, 12, 63]"
      ]
     },
     "execution_count": 24,
     "metadata": {},
     "output_type": "execute_result"
    }
   ],
   "source": [
    "nums"
   ]
  },
  {
   "cell_type": "code",
   "execution_count": 25,
   "id": "9fdc6d74-69d9-4c38-90db-0d7704375cad",
   "metadata": {},
   "outputs": [
    {
     "data": {
      "text/plain": [
       "749"
      ]
     },
     "execution_count": 25,
     "metadata": {},
     "output_type": "execute_result"
    }
   ],
   "source": [
    "sum(nums)"
   ]
  },
  {
   "cell_type": "markdown",
   "id": "0e94deba-f02e-438f-8635-4b4ba7c6adc7",
   "metadata": {},
   "source": [
    "#### File Position"
   ]
  },
  {
   "cell_type": "markdown",
   "id": "d23cc6d8-58e8-4cbc-ac72-2f36c2fde3a1",
   "metadata": {},
   "source": [
    "##### The file position (also known as the file pointer or file cursor) refers to the current location within an open file where thenext read or write operation will occur."
   ]
  },
  {
   "cell_type": "code",
   "execution_count": 26,
   "id": "3f4d6a13-1a69-4b5b-b632-1619c5a6ff6b",
   "metadata": {},
   "outputs": [],
   "source": [
    "f = open('sample.txt')"
   ]
  },
  {
   "cell_type": "code",
   "execution_count": 27,
   "id": "7ae3ac5c-62d0-42b6-bffa-fd1cdf563345",
   "metadata": {},
   "outputs": [
    {
     "data": {
      "text/plain": [
       "0"
      ]
     },
     "execution_count": 27,
     "metadata": {},
     "output_type": "execute_result"
    }
   ],
   "source": [
    "f.tell()"
   ]
  },
  {
   "cell_type": "code",
   "execution_count": 28,
   "id": "6e652a0c-6e78-48b1-8cb1-ab99018cf925",
   "metadata": {},
   "outputs": [
    {
     "data": {
      "text/plain": [
       "'Hello Friends!\\n'"
      ]
     },
     "execution_count": 28,
     "metadata": {},
     "output_type": "execute_result"
    }
   ],
   "source": [
    "f.readline()"
   ]
  },
  {
   "cell_type": "code",
   "execution_count": 29,
   "id": "9d2614f1-d0ba-4d37-bf84-28f305780cbf",
   "metadata": {},
   "outputs": [
    {
     "data": {
      "text/plain": [
       "15"
      ]
     },
     "execution_count": 29,
     "metadata": {},
     "output_type": "execute_result"
    }
   ],
   "source": [
    "f.tell()"
   ]
  },
  {
   "cell_type": "code",
   "execution_count": 30,
   "id": "11196f54-bc05-4b54-9ea9-eb407b46b824",
   "metadata": {},
   "outputs": [
    {
     "data": {
      "text/plain": [
       "'How are you!\\n'"
      ]
     },
     "execution_count": 30,
     "metadata": {},
     "output_type": "execute_result"
    }
   ],
   "source": [
    "f.readline()"
   ]
  },
  {
   "cell_type": "code",
   "execution_count": 31,
   "id": "db0301e3-0503-4f34-8ba4-e6fec3382441",
   "metadata": {},
   "outputs": [
    {
     "data": {
      "text/plain": [
       "28"
      ]
     },
     "execution_count": 31,
     "metadata": {},
     "output_type": "execute_result"
    }
   ],
   "source": [
    "f.tell()"
   ]
  },
  {
   "cell_type": "code",
   "execution_count": 32,
   "id": "b1c0d979-6af8-4b58-9518-e5489af74e78",
   "metadata": {},
   "outputs": [
    {
     "data": {
      "text/plain": [
       "'Welcome to the world of python.\\n'"
      ]
     },
     "execution_count": 32,
     "metadata": {},
     "output_type": "execute_result"
    }
   ],
   "source": [
    "f.readline()"
   ]
  },
  {
   "cell_type": "code",
   "execution_count": 33,
   "id": "cd145205-40bf-42f0-9d7c-899fbce06741",
   "metadata": {},
   "outputs": [
    {
     "data": {
      "text/plain": [
       "60"
      ]
     },
     "execution_count": 33,
     "metadata": {},
     "output_type": "execute_result"
    }
   ],
   "source": [
    "f.tell()"
   ]
  },
  {
   "cell_type": "code",
   "execution_count": 34,
   "id": "ce8b405f-9ded-4179-8501-3bd8ef37ba0f",
   "metadata": {},
   "outputs": [
    {
     "data": {
      "text/plain": [
       "'\\n'"
      ]
     },
     "execution_count": 34,
     "metadata": {},
     "output_type": "execute_result"
    }
   ],
   "source": [
    "f.readline()"
   ]
  },
  {
   "cell_type": "code",
   "execution_count": 35,
   "id": "b482adcb-ff8a-4a42-b27f-e6460b7d4e65",
   "metadata": {},
   "outputs": [
    {
     "data": {
      "text/plain": [
       "62"
      ]
     },
     "execution_count": 35,
     "metadata": {},
     "output_type": "execute_result"
    }
   ],
   "source": [
    "f.tell()"
   ]
  },
  {
   "cell_type": "code",
   "execution_count": 36,
   "id": "83ab5105-c84e-4155-86ab-244cc87f911b",
   "metadata": {},
   "outputs": [
    {
     "data": {
      "text/plain": [
       "'Good bye!'"
      ]
     },
     "execution_count": 36,
     "metadata": {},
     "output_type": "execute_result"
    }
   ],
   "source": [
    "f.readline()"
   ]
  },
  {
   "cell_type": "code",
   "execution_count": 37,
   "id": "7de71d6e-c8c7-4cce-81d6-73d2cbdecee1",
   "metadata": {},
   "outputs": [
    {
     "data": {
      "text/plain": [
       "71"
      ]
     },
     "execution_count": 37,
     "metadata": {},
     "output_type": "execute_result"
    }
   ],
   "source": [
    "f.tell()"
   ]
  },
  {
   "cell_type": "code",
   "execution_count": 38,
   "id": "8d14c4ab-7c60-41be-a0d5-5dd648569690",
   "metadata": {},
   "outputs": [
    {
     "data": {
      "text/plain": [
       "50"
      ]
     },
     "execution_count": 38,
     "metadata": {},
     "output_type": "execute_result"
    }
   ],
   "source": [
    "f.seek(50)"
   ]
  },
  {
   "cell_type": "code",
   "execution_count": 39,
   "id": "e8fb4d94-bef4-4839-a76d-c32d1d9cabb9",
   "metadata": {},
   "outputs": [
    {
     "data": {
      "text/plain": [
       "'f python.\\n'"
      ]
     },
     "execution_count": 39,
     "metadata": {},
     "output_type": "execute_result"
    }
   ],
   "source": [
    "f.readline()"
   ]
  },
  {
   "cell_type": "markdown",
   "id": "9dcfa429-b247-470d-b6df-5c3fb646af78",
   "metadata": {},
   "source": [
    "#### Binary mode"
   ]
  },
  {
   "cell_type": "markdown",
   "id": "9598d857-3cd2-4723-a64b-406b546b420f",
   "metadata": {},
   "source": [
    "##### Opening a file in binary mode means you're telling the interpreter to treat the file's content as a sequence "
   ]
  },
  {
   "cell_type": "code",
   "execution_count": 44,
   "id": "a6259e24-2a39-4b16-abcf-55b289aa1928",
   "metadata": {},
   "outputs": [],
   "source": [
    "with open('mydata.bin' , 'wb') as f:\n",
    "    f.write(b'Hello World!')"
   ]
  },
  {
   "cell_type": "code",
   "execution_count": 45,
   "id": "a3da53d5-0dc4-4454-9cd2-0f4b839ebae8",
   "metadata": {},
   "outputs": [
    {
     "name": "stdout",
     "output_type": "stream",
     "text": [
      "Data in file b'Hello World!'\n"
     ]
    }
   ],
   "source": [
    "with open('mydata.bin' , 'rb') as f:\n",
    "    content = f.read()\n",
    "    print(f'Data in file {content}')"
   ]
  },
  {
   "cell_type": "code",
   "execution_count": null,
   "id": "b59a07a4-4f22-4ca2-a669-f0eda6a361da",
   "metadata": {},
   "outputs": [],
   "source": []
  },
  {
   "cell_type": "code",
   "execution_count": null,
   "id": "bf44ba00-a31d-4b86-8dac-8e7f1f4f82ff",
   "metadata": {},
   "outputs": [],
   "source": []
  }
 ],
 "metadata": {
  "kernelspec": {
   "display_name": "Python 3 (ipykernel)",
   "language": "python",
   "name": "python3"
  },
  "language_info": {
   "codemirror_mode": {
    "name": "ipython",
    "version": 3
   },
   "file_extension": ".py",
   "mimetype": "text/x-python",
   "name": "python",
   "nbconvert_exporter": "python",
   "pygments_lexer": "ipython3",
   "version": "3.12.7"
  }
 },
 "nbformat": 4,
 "nbformat_minor": 5
}
